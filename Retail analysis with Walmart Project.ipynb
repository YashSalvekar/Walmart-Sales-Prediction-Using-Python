{
 "cells": [
  {
   "cell_type": "code",
   "execution_count": 1,
   "id": "c387837b",
   "metadata": {},
   "outputs": [],
   "source": [
    "import numpy as np\n",
    "import pandas as pd"
   ]
  },
  {
   "cell_type": "code",
   "execution_count": 2,
   "id": "458ea473",
   "metadata": {},
   "outputs": [],
   "source": [
    "walmart_data = pd.read_csv(r\"E:\\Simplilearn\\project walmart\\Walmart_Store_sales.csv\")"
   ]
  },
  {
   "cell_type": "code",
   "execution_count": 38,
   "id": "4b58a7b0",
   "metadata": {},
   "outputs": [
    {
     "data": {
      "text/html": [
       "<div>\n",
       "<style scoped>\n",
       "    .dataframe tbody tr th:only-of-type {\n",
       "        vertical-align: middle;\n",
       "    }\n",
       "\n",
       "    .dataframe tbody tr th {\n",
       "        vertical-align: top;\n",
       "    }\n",
       "\n",
       "    .dataframe thead th {\n",
       "        text-align: right;\n",
       "    }\n",
       "</style>\n",
       "<table border=\"1\" class=\"dataframe\">\n",
       "  <thead>\n",
       "    <tr style=\"text-align: right;\">\n",
       "      <th></th>\n",
       "      <th>Store</th>\n",
       "      <th>Date</th>\n",
       "      <th>Weekly_Sales</th>\n",
       "      <th>Holiday_Flag</th>\n",
       "      <th>Temperature</th>\n",
       "      <th>Fuel_Price</th>\n",
       "      <th>CPI</th>\n",
       "      <th>Unemployment</th>\n",
       "      <th>Day</th>\n",
       "    </tr>\n",
       "  </thead>\n",
       "  <tbody>\n",
       "    <tr>\n",
       "      <th>0</th>\n",
       "      <td>1</td>\n",
       "      <td>05-02-2010</td>\n",
       "      <td>1643690.90</td>\n",
       "      <td>0</td>\n",
       "      <td>42.31</td>\n",
       "      <td>2.572</td>\n",
       "      <td>211.096358</td>\n",
       "      <td>8.106</td>\n",
       "      <td>Sunday</td>\n",
       "    </tr>\n",
       "    <tr>\n",
       "      <th>1</th>\n",
       "      <td>1</td>\n",
       "      <td>12-02-2010</td>\n",
       "      <td>1641957.44</td>\n",
       "      <td>1</td>\n",
       "      <td>38.51</td>\n",
       "      <td>2.548</td>\n",
       "      <td>211.242170</td>\n",
       "      <td>8.106</td>\n",
       "      <td>Thursday</td>\n",
       "    </tr>\n",
       "    <tr>\n",
       "      <th>2</th>\n",
       "      <td>1</td>\n",
       "      <td>19-02-2010</td>\n",
       "      <td>1611968.17</td>\n",
       "      <td>0</td>\n",
       "      <td>39.93</td>\n",
       "      <td>2.514</td>\n",
       "      <td>211.289143</td>\n",
       "      <td>8.106</td>\n",
       "      <td>Friday</td>\n",
       "    </tr>\n",
       "    <tr>\n",
       "      <th>3</th>\n",
       "      <td>1</td>\n",
       "      <td>26-02-2010</td>\n",
       "      <td>1409727.59</td>\n",
       "      <td>0</td>\n",
       "      <td>46.63</td>\n",
       "      <td>2.561</td>\n",
       "      <td>211.319643</td>\n",
       "      <td>8.106</td>\n",
       "      <td>Friday</td>\n",
       "    </tr>\n",
       "    <tr>\n",
       "      <th>4</th>\n",
       "      <td>1</td>\n",
       "      <td>05-03-2010</td>\n",
       "      <td>1554806.68</td>\n",
       "      <td>0</td>\n",
       "      <td>46.50</td>\n",
       "      <td>2.625</td>\n",
       "      <td>211.350143</td>\n",
       "      <td>8.106</td>\n",
       "      <td>Monday</td>\n",
       "    </tr>\n",
       "  </tbody>\n",
       "</table>\n",
       "</div>"
      ],
      "text/plain": [
       "   Store        Date  Weekly_Sales  Holiday_Flag  Temperature  Fuel_Price  \\\n",
       "0      1  05-02-2010    1643690.90             0        42.31       2.572   \n",
       "1      1  12-02-2010    1641957.44             1        38.51       2.548   \n",
       "2      1  19-02-2010    1611968.17             0        39.93       2.514   \n",
       "3      1  26-02-2010    1409727.59             0        46.63       2.561   \n",
       "4      1  05-03-2010    1554806.68             0        46.50       2.625   \n",
       "\n",
       "          CPI  Unemployment       Day  \n",
       "0  211.096358         8.106    Sunday  \n",
       "1  211.242170         8.106  Thursday  \n",
       "2  211.289143         8.106    Friday  \n",
       "3  211.319643         8.106    Friday  \n",
       "4  211.350143         8.106    Monday  "
      ]
     },
     "execution_count": 38,
     "metadata": {},
     "output_type": "execute_result"
    }
   ],
   "source": [
    "walmart_data.head()"
   ]
  },
  {
   "cell_type": "markdown",
   "id": "a2a3554d",
   "metadata": {},
   "source": [
    "# Basic Statistics "
   ]
  },
  {
   "cell_type": "markdown",
   "id": "290c7ae0",
   "metadata": {},
   "source": [
    "Which store has maximum sales"
   ]
  },
  {
   "cell_type": "code",
   "execution_count": 4,
   "id": "a8066314",
   "metadata": {},
   "outputs": [],
   "source": [
    "wallmart_groupdata = walmart_data.groupby('Store')['Weekly_Sales'].sum()"
   ]
  },
  {
   "cell_type": "code",
   "execution_count": 5,
   "id": "012ff9d6",
   "metadata": {
    "scrolled": true
   },
   "outputs": [
    {
     "name": "stdout",
     "output_type": "stream",
     "text": [
      "The Store number 20 has the maximum sales 301397792.46\n"
     ]
    }
   ],
   "source": [
    "print(\"The Store number {} has the maximum sales {}\".format(wallmart_groupdata.idxmax(),wallmart_groupdata.max()))"
   ]
  },
  {
   "cell_type": "markdown",
   "id": "544da01d",
   "metadata": {},
   "source": [
    "Which store has maximum standard deviation i.e., the sales vary a lot. Also, find out the coefficient of mean to standard deviation\n"
   ]
  },
  {
   "cell_type": "code",
   "execution_count": 6,
   "id": "606ae212",
   "metadata": {},
   "outputs": [],
   "source": [
    "walmart_std= walmart_data.groupby('Store').agg({'Weekly_Sales':'std'})"
   ]
  },
  {
   "cell_type": "code",
   "execution_count": 7,
   "id": "0f30ba67",
   "metadata": {
    "scrolled": true
   },
   "outputs": [
    {
     "name": "stdout",
     "output_type": "stream",
     "text": [
      "The store number 14 has the maximum Standard Deviation, that is 317569.9494755081\n"
     ]
    }
   ],
   "source": [
    "print('The store number {} has the maximum Standard Deviation, that is {}'.format(walmart_std['Weekly_Sales'].idxmax(),\n",
    "                                                                                  walmart_std['Weekly_Sales'].max()))"
   ]
  },
  {
   "cell_type": "code",
   "execution_count": 8,
   "id": "18dd823a",
   "metadata": {},
   "outputs": [],
   "source": [
    "walmart_std1= walmart_data.groupby('Store').agg({'Weekly_Sales':['mean','std']})"
   ]
  },
  {
   "cell_type": "code",
   "execution_count": 9,
   "id": "18e39f5d",
   "metadata": {
    "scrolled": true
   },
   "outputs": [
    {
     "data": {
      "text/html": [
       "<div>\n",
       "<style scoped>\n",
       "    .dataframe tbody tr th:only-of-type {\n",
       "        vertical-align: middle;\n",
       "    }\n",
       "\n",
       "    .dataframe tbody tr th {\n",
       "        vertical-align: top;\n",
       "    }\n",
       "\n",
       "    .dataframe thead tr th {\n",
       "        text-align: left;\n",
       "    }\n",
       "\n",
       "    .dataframe thead tr:last-of-type th {\n",
       "        text-align: right;\n",
       "    }\n",
       "</style>\n",
       "<table border=\"1\" class=\"dataframe\">\n",
       "  <thead>\n",
       "    <tr>\n",
       "      <th></th>\n",
       "      <th colspan=\"2\" halign=\"left\">Weekly_Sales</th>\n",
       "    </tr>\n",
       "    <tr>\n",
       "      <th></th>\n",
       "      <th>mean</th>\n",
       "      <th>std</th>\n",
       "    </tr>\n",
       "    <tr>\n",
       "      <th>Store</th>\n",
       "      <th></th>\n",
       "      <th></th>\n",
       "    </tr>\n",
       "  </thead>\n",
       "  <tbody>\n",
       "    <tr>\n",
       "      <th>1</th>\n",
       "      <td>1.555264e+06</td>\n",
       "      <td>155980.767761</td>\n",
       "    </tr>\n",
       "    <tr>\n",
       "      <th>2</th>\n",
       "      <td>1.925751e+06</td>\n",
       "      <td>237683.694682</td>\n",
       "    </tr>\n",
       "    <tr>\n",
       "      <th>3</th>\n",
       "      <td>4.027044e+05</td>\n",
       "      <td>46319.631557</td>\n",
       "    </tr>\n",
       "    <tr>\n",
       "      <th>4</th>\n",
       "      <td>2.094713e+06</td>\n",
       "      <td>266201.442297</td>\n",
       "    </tr>\n",
       "    <tr>\n",
       "      <th>5</th>\n",
       "      <td>3.180118e+05</td>\n",
       "      <td>37737.965745</td>\n",
       "    </tr>\n",
       "    <tr>\n",
       "      <th>6</th>\n",
       "      <td>1.564728e+06</td>\n",
       "      <td>212525.855862</td>\n",
       "    </tr>\n",
       "    <tr>\n",
       "      <th>7</th>\n",
       "      <td>5.706173e+05</td>\n",
       "      <td>112585.469220</td>\n",
       "    </tr>\n",
       "    <tr>\n",
       "      <th>8</th>\n",
       "      <td>9.087495e+05</td>\n",
       "      <td>106280.829881</td>\n",
       "    </tr>\n",
       "    <tr>\n",
       "      <th>9</th>\n",
       "      <td>5.439806e+05</td>\n",
       "      <td>69028.666585</td>\n",
       "    </tr>\n",
       "    <tr>\n",
       "      <th>10</th>\n",
       "      <td>1.899425e+06</td>\n",
       "      <td>302262.062504</td>\n",
       "    </tr>\n",
       "  </tbody>\n",
       "</table>\n",
       "</div>"
      ],
      "text/plain": [
       "       Weekly_Sales               \n",
       "               mean            std\n",
       "Store                             \n",
       "1      1.555264e+06  155980.767761\n",
       "2      1.925751e+06  237683.694682\n",
       "3      4.027044e+05   46319.631557\n",
       "4      2.094713e+06  266201.442297\n",
       "5      3.180118e+05   37737.965745\n",
       "6      1.564728e+06  212525.855862\n",
       "7      5.706173e+05  112585.469220\n",
       "8      9.087495e+05  106280.829881\n",
       "9      5.439806e+05   69028.666585\n",
       "10     1.899425e+06  302262.062504"
      ]
     },
     "execution_count": 9,
     "metadata": {},
     "output_type": "execute_result"
    }
   ],
   "source": [
    "walmart_std1.head(10)"
   ]
  },
  {
   "cell_type": "markdown",
   "id": "b880ef06",
   "metadata": {},
   "source": [
    "Which store/s has good quarterly growth rate in Q3’2012"
   ]
  },
  {
   "cell_type": "code",
   "execution_count": 10,
   "id": "649b3b4f",
   "metadata": {},
   "outputs": [],
   "source": [
    "wallmartQ3_2012 = walmart_data[(pd.to_datetime(walmart_data['Date']) >= pd.to_datetime('01-07-2012')) & \n",
    "                               (pd.to_datetime(walmart_data['Date']) <= pd.to_datetime('30-09-2012'))]"
   ]
  },
  {
   "cell_type": "code",
   "execution_count": 11,
   "id": "5defcb84",
   "metadata": {},
   "outputs": [],
   "source": [
    "walmart_dataQ3_grp = wallmartQ3_2012.groupby(['Store'])['Weekly_Sales'].sum()"
   ]
  },
  {
   "cell_type": "code",
   "execution_count": 12,
   "id": "45b21dd9",
   "metadata": {},
   "outputs": [
    {
     "name": "stdout",
     "output_type": "stream",
     "text": [
      "The store number 4 has achieved the good quality growth 77516251.42 in third Quarter of 2012\n"
     ]
    }
   ],
   "source": [
    "walmartQ3_max = print('The store number {} has achieved the good quality growth {} in third Quarter of 2012'.format\n",
    "                      (walmart_dataQ3_grp.idxmax(),walmart_dataQ3_grp.max()))"
   ]
  },
  {
   "cell_type": "code",
   "execution_count": 13,
   "id": "c73c0b80",
   "metadata": {
    "scrolled": true
   },
   "outputs": [
    {
     "data": {
      "text/plain": [
       "1046964.8775617732"
      ]
     },
     "execution_count": 13,
     "metadata": {},
     "output_type": "execute_result"
    }
   ],
   "source": [
    "walmart_data['Weekly_Sales'].mean()"
   ]
  },
  {
   "cell_type": "markdown",
   "id": "0ce38673",
   "metadata": {},
   "source": [
    "Some holidays have a negative impact on sales. Find out holidays which have higher sales than the mean sales in \n",
    "non-holiday season for all stores together\n"
   ]
  },
  {
   "cell_type": "code",
   "execution_count": 14,
   "id": "dd16ab94",
   "metadata": {},
   "outputs": [],
   "source": [
    "stores_holiday_sales = walmart_data[walmart_data['Holiday_Flag'] ==1]"
   ]
  },
  {
   "cell_type": "code",
   "execution_count": 15,
   "id": "8d26f6e5",
   "metadata": {},
   "outputs": [],
   "source": [
    "stores_nonholiday_sales = walmart_data[walmart_data['Holiday_Flag'] ==0]"
   ]
  },
  {
   "cell_type": "code",
   "execution_count": 16,
   "id": "275ac291",
   "metadata": {},
   "outputs": [],
   "source": [
    "#Super Bowl: 12-Feb-10, 11-Feb-11, 10-Feb-12, 8-Feb-13\n",
    "\n",
    "stores_holiday_sales_superBowl = stores_holiday_sales[(pd.to_datetime(stores_holiday_sales['Date'])== pd.to_datetime('12-02-2010')) | \n",
    "                                                      (pd.to_datetime(stores_holiday_sales['Date'])== pd.to_datetime('11-02-2011')) |\n",
    "                                                      (pd.to_datetime(stores_holiday_sales['Date'])== pd.to_datetime('10-02-2012'))|\n",
    "                                                      (pd.to_datetime(stores_holiday_sales['Date'])== pd.to_datetime('08-02-2013'))]"
   ]
  },
  {
   "cell_type": "code",
   "execution_count": 17,
   "id": "a26c4e72",
   "metadata": {},
   "outputs": [],
   "source": [
    "#Labour Day: 10-Sep-10, 9-Sep-11, 7-Sep-12, 6-Sep-13\n",
    "stores_holiday_sales_labourDay = stores_holiday_sales[(pd.to_datetime(stores_holiday_sales['Date']) == pd.to_datetime('10-09-2010'))|\n",
    "                                                     (pd.to_datetime(stores_holiday_sales['Date']) == pd.to_datetime('09-09-2011'))|\n",
    "                                                     (pd.to_datetime(stores_holiday_sales['Date']) == pd.to_datetime('07-09-2012'))|\n",
    "                                                     (pd.to_datetime(stores_holiday_sales['Date']) == pd.to_datetime('06-09-2013'))]"
   ]
  },
  {
   "cell_type": "code",
   "execution_count": 18,
   "id": "fb039fe7",
   "metadata": {},
   "outputs": [],
   "source": [
    "#Thanksgiving: 26-Nov-10, 25-Nov-11, 23-Nov-12, 29-Nov-13\n",
    "stores_holiday_sales_Thanksgiving = stores_holiday_sales[(pd.to_datetime(stores_holiday_sales['Date']) == pd.to_datetime('26-11-2010'))|\n",
    "                                                        (pd.to_datetime(stores_holiday_sales['Date']) == pd.to_datetime('25-11-2011'))|\n",
    "                                                        (pd.to_datetime(stores_holiday_sales['Date']) == pd.to_datetime('23-11-2012'))|\n",
    "                                                        (pd.to_datetime(stores_holiday_sales['Date']) == pd.to_datetime('29-11-2013'))]"
   ]
  },
  {
   "cell_type": "code",
   "execution_count": 19,
   "id": "4ffab944",
   "metadata": {},
   "outputs": [],
   "source": [
    "#Christmas: 31-Dec-10, 30-Dec-11, 28-Dec-12, 27-Dec-13\n",
    "\n",
    "stores_holiday_sales_Christmas = stores_holiday_sales[(pd.to_datetime(stores_holiday_sales['Date'])== pd.to_datetime('31-12-2010'))|\n",
    "                                                     (pd.to_datetime(stores_holiday_sales['Date'])== pd.to_datetime('30-12-2011'))|\n",
    "                                                     (pd.to_datetime(stores_holiday_sales['Date'])== pd.to_datetime('28-12-2012'))|\n",
    "                                                     (pd.to_datetime(stores_holiday_sales['Date'])== pd.to_datetime('27-12-2013'))]"
   ]
  },
  {
   "cell_type": "code",
   "execution_count": 20,
   "id": "42125ca1",
   "metadata": {},
   "outputs": [],
   "source": [
    "stores_nonholiday_sales_mean = stores_nonholiday_sales.groupby('Date').agg({'Weekly_Sales':'mean'}).reset_index()"
   ]
  },
  {
   "cell_type": "code",
   "execution_count": 21,
   "id": "39b6c2dd",
   "metadata": {},
   "outputs": [],
   "source": [
    "stores_holiday_sales_sum = stores_holiday_sales.groupby('Date').agg({'Weekly_Sales':'sum'}).reset_index()"
   ]
  },
  {
   "cell_type": "code",
   "execution_count": 22,
   "id": "f87b6914",
   "metadata": {},
   "outputs": [
    {
     "data": {
      "text/html": [
       "<div>\n",
       "<style scoped>\n",
       "    .dataframe tbody tr th:only-of-type {\n",
       "        vertical-align: middle;\n",
       "    }\n",
       "\n",
       "    .dataframe tbody tr th {\n",
       "        vertical-align: top;\n",
       "    }\n",
       "\n",
       "    .dataframe thead th {\n",
       "        text-align: right;\n",
       "    }\n",
       "</style>\n",
       "<table border=\"1\" class=\"dataframe\">\n",
       "  <thead>\n",
       "    <tr style=\"text-align: right;\">\n",
       "      <th></th>\n",
       "      <th>Date</th>\n",
       "      <th>Weekly_Sales</th>\n",
       "    </tr>\n",
       "  </thead>\n",
       "  <tbody>\n",
       "    <tr>\n",
       "      <th>0</th>\n",
       "      <td>07-09-2012</td>\n",
       "      <td>48330059.31</td>\n",
       "    </tr>\n",
       "    <tr>\n",
       "      <th>1</th>\n",
       "      <td>09-09-2011</td>\n",
       "      <td>46763227.53</td>\n",
       "    </tr>\n",
       "    <tr>\n",
       "      <th>2</th>\n",
       "      <td>10-02-2012</td>\n",
       "      <td>50009407.92</td>\n",
       "    </tr>\n",
       "    <tr>\n",
       "      <th>3</th>\n",
       "      <td>10-09-2010</td>\n",
       "      <td>45634397.84</td>\n",
       "    </tr>\n",
       "    <tr>\n",
       "      <th>4</th>\n",
       "      <td>11-02-2011</td>\n",
       "      <td>47336192.79</td>\n",
       "    </tr>\n",
       "    <tr>\n",
       "      <th>5</th>\n",
       "      <td>12-02-2010</td>\n",
       "      <td>48336677.63</td>\n",
       "    </tr>\n",
       "    <tr>\n",
       "      <th>6</th>\n",
       "      <td>25-11-2011</td>\n",
       "      <td>66593605.26</td>\n",
       "    </tr>\n",
       "    <tr>\n",
       "      <th>7</th>\n",
       "      <td>26-11-2010</td>\n",
       "      <td>65821003.24</td>\n",
       "    </tr>\n",
       "    <tr>\n",
       "      <th>8</th>\n",
       "      <td>30-12-2011</td>\n",
       "      <td>46042461.04</td>\n",
       "    </tr>\n",
       "    <tr>\n",
       "      <th>9</th>\n",
       "      <td>31-12-2010</td>\n",
       "      <td>40432519.00</td>\n",
       "    </tr>\n",
       "  </tbody>\n",
       "</table>\n",
       "</div>"
      ],
      "text/plain": [
       "         Date  Weekly_Sales\n",
       "0  07-09-2012   48330059.31\n",
       "1  09-09-2011   46763227.53\n",
       "2  10-02-2012   50009407.92\n",
       "3  10-09-2010   45634397.84\n",
       "4  11-02-2011   47336192.79\n",
       "5  12-02-2010   48336677.63\n",
       "6  25-11-2011   66593605.26\n",
       "7  26-11-2010   65821003.24\n",
       "8  30-12-2011   46042461.04\n",
       "9  31-12-2010   40432519.00"
      ]
     },
     "execution_count": 22,
     "metadata": {},
     "output_type": "execute_result"
    }
   ],
   "source": [
    "stores_holiday_sales_sum"
   ]
  },
  {
   "cell_type": "code",
   "execution_count": 23,
   "id": "e3780bd6",
   "metadata": {},
   "outputs": [
    {
     "name": "stdout",
     "output_type": "stream",
     "text": [
      "On this Date 07-09-2012 Holiday Sales is greater than Non Holiday Sales and the Sales :- 48330059.31\n",
      "On this Date 09-09-2011 Holiday Sales is greater than Non Holiday Sales and the Sales :- 46763227.53\n",
      "On this Date 10-02-2012 Holiday Sales is greater than Non Holiday Sales and the Sales :- 50009407.92\n",
      "On this Date 10-09-2010 Holiday Sales is greater than Non Holiday Sales and the Sales :- 45634397.839999996\n",
      "On this Date 11-02-2011 Holiday Sales is greater than Non Holiday Sales and the Sales :- 47336192.79\n",
      "On this Date 12-02-2010 Holiday Sales is greater than Non Holiday Sales and the Sales :- 48336677.63\n",
      "On this Date 25-11-2011 Holiday Sales is greater than Non Holiday Sales and the Sales :- 66593605.26\n",
      "On this Date 26-11-2010 Holiday Sales is greater than Non Holiday Sales and the Sales :- 65821003.24\n",
      "On this Date 30-12-2011 Holiday Sales is greater than Non Holiday Sales and the Sales :- 46042461.04\n",
      "On this Date 31-12-2010 Holiday Sales is greater than Non Holiday Sales and the Sales :- 40432519.0\n"
     ]
    }
   ],
   "source": [
    "for row in stores_holiday_sales_sum.itertuples():\n",
    "    for row1 in stores_nonholiday_sales_mean.itertuples():\n",
    "        if row.Weekly_Sales > row1.Weekly_Sales:\n",
    "            print(\"On this Date {} Holiday Sales is greater than Non Holiday Sales and the Sales :- {}\".format\n",
    "                  (row.Date,row.Weekly_Sales))\n",
    "            break;"
   ]
  },
  {
   "cell_type": "code",
   "execution_count": 24,
   "id": "35066575",
   "metadata": {},
   "outputs": [
    {
     "name": "stdout",
     "output_type": "stream",
     "text": [
      "Total sales on holidays :-\n",
      "Super Bowl Day Sale : 145682278.34\n",
      "Labour Day Sale : 140727684.68\n",
      "Thanksgiving Day Sale : 132414608.5\n",
      "Christmas Day Sale : 86474980.03999999\n"
     ]
    }
   ],
   "source": [
    "print(\"Total sales on holidays :-\")\n",
    "\n",
    "print(\"Super Bowl Day Sale :\",stores_holiday_sales_superBowl['Weekly_Sales'].sum())\n",
    "print(\"Labour Day Sale :\",stores_holiday_sales_labourDay['Weekly_Sales'].sum())\n",
    "print(\"Thanksgiving Day Sale :\",stores_holiday_sales_Thanksgiving['Weekly_Sales'].sum())\n",
    "print(\"Christmas Day Sale :\",stores_holiday_sales_Christmas['Weekly_Sales'].sum())"
   ]
  },
  {
   "cell_type": "markdown",
   "id": "0c480800",
   "metadata": {},
   "source": [
    "For Store 1 – Build  prediction models to forecast demand\n",
    "\n",
    "Linear Regression – Utilize variables like date and restructure dates as 1 for 5 Feb 2010\n",
    "(starting from the earliest date in order). Hypothesize if CPI, unemployment, and fuel price have any impact on sales.\n",
    "\n",
    "Change dates into days by creating new variable."
   ]
  },
  {
   "cell_type": "code",
   "execution_count": 25,
   "id": "5796b5ba",
   "metadata": {},
   "outputs": [
    {
     "data": {
      "text/html": [
       "<div>\n",
       "<style scoped>\n",
       "    .dataframe tbody tr th:only-of-type {\n",
       "        vertical-align: middle;\n",
       "    }\n",
       "\n",
       "    .dataframe tbody tr th {\n",
       "        vertical-align: top;\n",
       "    }\n",
       "\n",
       "    .dataframe thead th {\n",
       "        text-align: right;\n",
       "    }\n",
       "</style>\n",
       "<table border=\"1\" class=\"dataframe\">\n",
       "  <thead>\n",
       "    <tr style=\"text-align: right;\">\n",
       "      <th></th>\n",
       "      <th>Store</th>\n",
       "      <th>Date</th>\n",
       "    </tr>\n",
       "  </thead>\n",
       "  <tbody>\n",
       "    <tr>\n",
       "      <th>0</th>\n",
       "      <td>1</td>\n",
       "      <td>1</td>\n",
       "    </tr>\n",
       "    <tr>\n",
       "      <th>1</th>\n",
       "      <td>1</td>\n",
       "      <td>2</td>\n",
       "    </tr>\n",
       "    <tr>\n",
       "      <th>2</th>\n",
       "      <td>1</td>\n",
       "      <td>3</td>\n",
       "    </tr>\n",
       "    <tr>\n",
       "      <th>3</th>\n",
       "      <td>1</td>\n",
       "      <td>4</td>\n",
       "    </tr>\n",
       "    <tr>\n",
       "      <th>4</th>\n",
       "      <td>1</td>\n",
       "      <td>5</td>\n",
       "    </tr>\n",
       "    <tr>\n",
       "      <th>...</th>\n",
       "      <td>...</td>\n",
       "      <td>...</td>\n",
       "    </tr>\n",
       "    <tr>\n",
       "      <th>138</th>\n",
       "      <td>1</td>\n",
       "      <td>139</td>\n",
       "    </tr>\n",
       "    <tr>\n",
       "      <th>139</th>\n",
       "      <td>1</td>\n",
       "      <td>140</td>\n",
       "    </tr>\n",
       "    <tr>\n",
       "      <th>140</th>\n",
       "      <td>1</td>\n",
       "      <td>141</td>\n",
       "    </tr>\n",
       "    <tr>\n",
       "      <th>141</th>\n",
       "      <td>1</td>\n",
       "      <td>142</td>\n",
       "    </tr>\n",
       "    <tr>\n",
       "      <th>142</th>\n",
       "      <td>1</td>\n",
       "      <td>143</td>\n",
       "    </tr>\n",
       "  </tbody>\n",
       "</table>\n",
       "<p>143 rows × 2 columns</p>\n",
       "</div>"
      ],
      "text/plain": [
       "     Store  Date\n",
       "0        1     1\n",
       "1        1     2\n",
       "2        1     3\n",
       "3        1     4\n",
       "4        1     5\n",
       "..     ...   ...\n",
       "138      1   139\n",
       "139      1   140\n",
       "140      1   141\n",
       "141      1   142\n",
       "142      1   143\n",
       "\n",
       "[143 rows x 2 columns]"
      ]
     },
     "execution_count": 25,
     "metadata": {},
     "output_type": "execute_result"
    }
   ],
   "source": [
    "x_features_object = walmart_data[walmart_data['Store'] ==1][['Store','Date']]\n",
    "date_obj = walmart_data[walmart_data['Store'] ==1][['Date']]\n",
    "date_obj.index += 1 \n",
    "x_features_object.Date = date_obj.index\n",
    "x_features_object"
   ]
  },
  {
   "cell_type": "code",
   "execution_count": 26,
   "id": "ad61aa4c",
   "metadata": {
    "scrolled": true
   },
   "outputs": [
    {
     "data": {
      "text/plain": [
       "0      1643690.90\n",
       "1      1641957.44\n",
       "2      1611968.17\n",
       "3      1409727.59\n",
       "4      1554806.68\n",
       "          ...    \n",
       "138    1437059.26\n",
       "139    1670785.97\n",
       "140    1573072.81\n",
       "141    1508068.77\n",
       "142    1493659.74\n",
       "Name: Weekly_Sales, Length: 143, dtype: float64"
      ]
     },
     "execution_count": 26,
     "metadata": {},
     "output_type": "execute_result"
    }
   ],
   "source": [
    "y_target = walmart_data[walmart_data['Store'] ==1]['Weekly_Sales']\n",
    "y_target"
   ]
  },
  {
   "cell_type": "markdown",
   "id": "6af1b292",
   "metadata": {},
   "source": [
    "# Building prediction models to forecast demand"
   ]
  },
  {
   "cell_type": "code",
   "execution_count": 27,
   "id": "91bd4fab",
   "metadata": {},
   "outputs": [],
   "source": [
    "from sklearn.model_selection import train_test_split\n",
    "x_train,x_test,y_train,y_test = train_test_split(x_features_object,y_target,random_state=1)"
   ]
  },
  {
   "cell_type": "code",
   "execution_count": 28,
   "id": "517427b7",
   "metadata": {},
   "outputs": [
    {
     "data": {
      "text/html": [
       "<div>\n",
       "<style scoped>\n",
       "    .dataframe tbody tr th:only-of-type {\n",
       "        vertical-align: middle;\n",
       "    }\n",
       "\n",
       "    .dataframe tbody tr th {\n",
       "        vertical-align: top;\n",
       "    }\n",
       "\n",
       "    .dataframe thead th {\n",
       "        text-align: right;\n",
       "    }\n",
       "</style>\n",
       "<table border=\"1\" class=\"dataframe\">\n",
       "  <thead>\n",
       "    <tr style=\"text-align: right;\">\n",
       "      <th></th>\n",
       "      <th>Store</th>\n",
       "      <th>CPI</th>\n",
       "      <th>Unemployment</th>\n",
       "      <th>Fuel_Price</th>\n",
       "    </tr>\n",
       "  </thead>\n",
       "  <tbody>\n",
       "    <tr>\n",
       "      <th>0</th>\n",
       "      <td>1</td>\n",
       "      <td>211.096358</td>\n",
       "      <td>8.106</td>\n",
       "      <td>2.572</td>\n",
       "    </tr>\n",
       "    <tr>\n",
       "      <th>1</th>\n",
       "      <td>1</td>\n",
       "      <td>211.242170</td>\n",
       "      <td>8.106</td>\n",
       "      <td>2.548</td>\n",
       "    </tr>\n",
       "    <tr>\n",
       "      <th>2</th>\n",
       "      <td>1</td>\n",
       "      <td>211.289143</td>\n",
       "      <td>8.106</td>\n",
       "      <td>2.514</td>\n",
       "    </tr>\n",
       "    <tr>\n",
       "      <th>3</th>\n",
       "      <td>1</td>\n",
       "      <td>211.319643</td>\n",
       "      <td>8.106</td>\n",
       "      <td>2.561</td>\n",
       "    </tr>\n",
       "    <tr>\n",
       "      <th>4</th>\n",
       "      <td>1</td>\n",
       "      <td>211.350143</td>\n",
       "      <td>8.106</td>\n",
       "      <td>2.625</td>\n",
       "    </tr>\n",
       "  </tbody>\n",
       "</table>\n",
       "</div>"
      ],
      "text/plain": [
       "   Store         CPI  Unemployment  Fuel_Price\n",
       "0      1  211.096358         8.106       2.572\n",
       "1      1  211.242170         8.106       2.548\n",
       "2      1  211.289143         8.106       2.514\n",
       "3      1  211.319643         8.106       2.561\n",
       "4      1  211.350143         8.106       2.625"
      ]
     },
     "execution_count": 28,
     "metadata": {},
     "output_type": "execute_result"
    }
   ],
   "source": [
    "from sklearn.linear_model import LinearRegression\n",
    "linreg = LinearRegression()\n",
    "linreg.fit(x_train,y_train)\n",
    "feature_ds = walmart_data[walmart_data['Store'] ==1][['Store','CPI','Unemployment','Fuel_Price']]\n",
    "feature_ds.head()"
   ]
  },
  {
   "cell_type": "code",
   "execution_count": 29,
   "id": "a567fcc3",
   "metadata": {},
   "outputs": [],
   "source": [
    "resp_set_cpi = walmart_data[walmart_data['Store'] ==1]['CPI'].astype('int64')\n"
   ]
  },
  {
   "cell_type": "code",
   "execution_count": 30,
   "id": "9f37fbfb",
   "metadata": {},
   "outputs": [],
   "source": [
    "resp_set_unemployment = walmart_data[walmart_data['Store'] ==1]['Unemployment'].astype('int64')"
   ]
  },
  {
   "cell_type": "code",
   "execution_count": 31,
   "id": "54e40ce5",
   "metadata": {},
   "outputs": [],
   "source": [
    "from sklearn.model_selection import train_test_split\n",
    "x_train_cpi,x_test_cpi,y_train_cpi,y_test_cpi = train_test_split(feature_ds,resp_set_cpi,random_state=1)\n",
    "x_train_unemp, x_test_unemp, y_train_unemp, y_test_unemp = train_test_split(feature_ds,resp_set_unemployment,random_state=1)"
   ]
  },
  {
   "cell_type": "code",
   "execution_count": 32,
   "id": "e7b66ea4",
   "metadata": {},
   "outputs": [
    {
     "data": {
      "text/plain": [
       "LogisticRegression(max_iter=10000)"
      ]
     },
     "execution_count": 32,
     "metadata": {},
     "output_type": "execute_result"
    }
   ],
   "source": [
    "from sklearn.linear_model import LogisticRegression\n",
    "logreg = LogisticRegression(max_iter=10000)\n",
    "logreg.fit(x_train_cpi,y_train_cpi)\n",
    "y_pred = logreg.predict(x_test_cpi)\n",
    "logreg.fit(x_train_unemp,y_train_unemp)\n"
   ]
  },
  {
   "cell_type": "code",
   "execution_count": 33,
   "id": "fb07baea",
   "metadata": {},
   "outputs": [],
   "source": [
    "y_pred_unemp = logreg.predict(x_test_unemp)"
   ]
  },
  {
   "cell_type": "code",
   "execution_count": 34,
   "id": "aa9bf4ca",
   "metadata": {},
   "outputs": [
    {
     "data": {
      "text/plain": [
       "array([7, 7, 7, 7, 6, 7, 7, 7, 7, 7, 6, 7, 7, 7, 7, 7, 7, 7, 7, 7, 7, 7,\n",
       "       7, 7, 7, 7, 7, 7, 7, 7, 7, 7, 7, 7, 7, 7], dtype=int64)"
      ]
     },
     "execution_count": 34,
     "metadata": {},
     "output_type": "execute_result"
    }
   ],
   "source": [
    "y_pred_unemp"
   ]
  },
  {
   "cell_type": "code",
   "execution_count": 35,
   "id": "8a9bfadc",
   "metadata": {},
   "outputs": [
    {
     "name": "stdout",
     "output_type": "stream",
     "text": [
      "0.7222222222222222\n",
      "0.9444444444444444\n"
     ]
    }
   ],
   "source": [
    "from sklearn import metrics\n",
    "print(metrics.accuracy_score(y_test_cpi,y_pred))\n",
    "print(metrics.accuracy_score(y_test_unemp,y_pred_unemp))"
   ]
  },
  {
   "cell_type": "code",
   "execution_count": 36,
   "id": "f1d32df8",
   "metadata": {},
   "outputs": [
    {
     "name": "stdout",
     "output_type": "stream",
     "text": [
      "The Actual CPI : [215 221 211 211 221 211 210 211 215 217 221 212 216 218 211 210 211 217\n",
      " 215 211 212 217 221 219 214 211 211 219 215 219]\n",
      "Predicted CPI : [215 221 211 211 221 211 211 211 215 215 221 211 215 218 211 211 211 217\n",
      " 215 211 211 217 221 220 215 211 211 221 215 220]\n",
      "actual Unemployment : [7 7 7 8 7 7 7 7 7 7 6 7 7 7 7 7 7 7 7 7 7 7 7 7 7 7 7 7 7 7]\n",
      "Predicted Unemployment : [7 7 7 7 6 7 7 7 7 7 6 7 7 7 7 7 7 7 7 7 7 7 7 7 7 7 7 7 7 7]\n"
     ]
    }
   ],
   "source": [
    "print('The Actual CPI :', y_test_cpi.values[0:30])\n",
    "print('Predicted CPI :', y_pred[0:30])\n",
    "print('actual Unemployment :', y_test_unemp.values[0:30])\n",
    "print('Predicted Unemployment :', y_pred_unemp[0:30])"
   ]
  },
  {
   "cell_type": "code",
   "execution_count": 37,
   "id": "5b9cb017",
   "metadata": {
    "scrolled": true
   },
   "outputs": [
    {
     "data": {
      "text/html": [
       "<div>\n",
       "<style scoped>\n",
       "    .dataframe tbody tr th:only-of-type {\n",
       "        vertical-align: middle;\n",
       "    }\n",
       "\n",
       "    .dataframe tbody tr th {\n",
       "        vertical-align: top;\n",
       "    }\n",
       "\n",
       "    .dataframe thead th {\n",
       "        text-align: right;\n",
       "    }\n",
       "</style>\n",
       "<table border=\"1\" class=\"dataframe\">\n",
       "  <thead>\n",
       "    <tr style=\"text-align: right;\">\n",
       "      <th></th>\n",
       "      <th>Store</th>\n",
       "      <th>Date</th>\n",
       "      <th>Weekly_Sales</th>\n",
       "      <th>Holiday_Flag</th>\n",
       "      <th>Temperature</th>\n",
       "      <th>Fuel_Price</th>\n",
       "      <th>CPI</th>\n",
       "      <th>Unemployment</th>\n",
       "      <th>Day</th>\n",
       "    </tr>\n",
       "  </thead>\n",
       "  <tbody>\n",
       "    <tr>\n",
       "      <th>0</th>\n",
       "      <td>1</td>\n",
       "      <td>05-02-2010</td>\n",
       "      <td>1643690.90</td>\n",
       "      <td>0</td>\n",
       "      <td>42.31</td>\n",
       "      <td>2.572</td>\n",
       "      <td>211.096358</td>\n",
       "      <td>8.106</td>\n",
       "      <td>Sunday</td>\n",
       "    </tr>\n",
       "    <tr>\n",
       "      <th>1</th>\n",
       "      <td>1</td>\n",
       "      <td>12-02-2010</td>\n",
       "      <td>1641957.44</td>\n",
       "      <td>1</td>\n",
       "      <td>38.51</td>\n",
       "      <td>2.548</td>\n",
       "      <td>211.242170</td>\n",
       "      <td>8.106</td>\n",
       "      <td>Thursday</td>\n",
       "    </tr>\n",
       "    <tr>\n",
       "      <th>2</th>\n",
       "      <td>1</td>\n",
       "      <td>19-02-2010</td>\n",
       "      <td>1611968.17</td>\n",
       "      <td>0</td>\n",
       "      <td>39.93</td>\n",
       "      <td>2.514</td>\n",
       "      <td>211.289143</td>\n",
       "      <td>8.106</td>\n",
       "      <td>Friday</td>\n",
       "    </tr>\n",
       "    <tr>\n",
       "      <th>3</th>\n",
       "      <td>1</td>\n",
       "      <td>26-02-2010</td>\n",
       "      <td>1409727.59</td>\n",
       "      <td>0</td>\n",
       "      <td>46.63</td>\n",
       "      <td>2.561</td>\n",
       "      <td>211.319643</td>\n",
       "      <td>8.106</td>\n",
       "      <td>Friday</td>\n",
       "    </tr>\n",
       "    <tr>\n",
       "      <th>4</th>\n",
       "      <td>1</td>\n",
       "      <td>05-03-2010</td>\n",
       "      <td>1554806.68</td>\n",
       "      <td>0</td>\n",
       "      <td>46.50</td>\n",
       "      <td>2.625</td>\n",
       "      <td>211.350143</td>\n",
       "      <td>8.106</td>\n",
       "      <td>Monday</td>\n",
       "    </tr>\n",
       "  </tbody>\n",
       "</table>\n",
       "</div>"
      ],
      "text/plain": [
       "   Store        Date  Weekly_Sales  Holiday_Flag  Temperature  Fuel_Price  \\\n",
       "0      1  05-02-2010    1643690.90             0        42.31       2.572   \n",
       "1      1  12-02-2010    1641957.44             1        38.51       2.548   \n",
       "2      1  19-02-2010    1611968.17             0        39.93       2.514   \n",
       "3      1  26-02-2010    1409727.59             0        46.63       2.561   \n",
       "4      1  05-03-2010    1554806.68             0        46.50       2.625   \n",
       "\n",
       "          CPI  Unemployment       Day  \n",
       "0  211.096358         8.106    Sunday  \n",
       "1  211.242170         8.106  Thursday  \n",
       "2  211.289143         8.106    Friday  \n",
       "3  211.319643         8.106    Friday  \n",
       "4  211.350143         8.106    Monday  "
      ]
     },
     "execution_count": 37,
     "metadata": {},
     "output_type": "execute_result"
    }
   ],
   "source": [
    "walmart_data['Day'] = pd.to_datetime(walmart_data['Date']).dt.day_name()\n",
    "walmart_data.head()"
   ]
  },
  {
   "cell_type": "markdown",
   "id": "ead2ac7f",
   "metadata": {},
   "source": [
    "## Here the Logistics Regression model is giving the best Accuracy of 94.4%"
   ]
  },
  {
   "cell_type": "code",
   "execution_count": null,
   "id": "d40f0afb",
   "metadata": {},
   "outputs": [],
   "source": []
  }
 ],
 "metadata": {
  "kernelspec": {
   "display_name": "Python 3 (ipykernel)",
   "language": "python",
   "name": "python3"
  },
  "language_info": {
   "codemirror_mode": {
    "name": "ipython",
    "version": 3
   },
   "file_extension": ".py",
   "mimetype": "text/x-python",
   "name": "python",
   "nbconvert_exporter": "python",
   "pygments_lexer": "ipython3",
   "version": "3.9.7"
  }
 },
 "nbformat": 4,
 "nbformat_minor": 5
}
